{
 "cells": [
  {
   "cell_type": "code",
   "execution_count": 1,
   "metadata": {},
   "outputs": [],
   "source": [
    "import pandas as pd\n",
    "import matplotlib.pyplot as plt\n",
    "%matplotlib inline"
   ]
  },
  {
   "cell_type": "code",
   "execution_count": 2,
   "metadata": {},
   "outputs": [
    {
     "data": {
      "text/html": [
       "<div>\n",
       "<style scoped>\n",
       "    .dataframe tbody tr th:only-of-type {\n",
       "        vertical-align: middle;\n",
       "    }\n",
       "\n",
       "    .dataframe tbody tr th {\n",
       "        vertical-align: top;\n",
       "    }\n",
       "\n",
       "    .dataframe thead th {\n",
       "        text-align: right;\n",
       "    }\n",
       "</style>\n",
       "<table border=\"1\" class=\"dataframe\">\n",
       "  <thead>\n",
       "    <tr style=\"text-align: right;\">\n",
       "      <th></th>\n",
       "      <th>City</th>\n",
       "      <th>Colors Reported</th>\n",
       "      <th>Shape Reported</th>\n",
       "      <th>State</th>\n",
       "      <th>Time</th>\n",
       "    </tr>\n",
       "  </thead>\n",
       "  <tbody>\n",
       "    <tr>\n",
       "      <th>0</th>\n",
       "      <td>Ithaca</td>\n",
       "      <td>NaN</td>\n",
       "      <td>TRIANGLE</td>\n",
       "      <td>NY</td>\n",
       "      <td>6/1/1930 22:00</td>\n",
       "    </tr>\n",
       "    <tr>\n",
       "      <th>1</th>\n",
       "      <td>Willingboro</td>\n",
       "      <td>NaN</td>\n",
       "      <td>OTHER</td>\n",
       "      <td>NJ</td>\n",
       "      <td>6/30/1930 20:00</td>\n",
       "    </tr>\n",
       "    <tr>\n",
       "      <th>2</th>\n",
       "      <td>Holyoke</td>\n",
       "      <td>NaN</td>\n",
       "      <td>OVAL</td>\n",
       "      <td>CO</td>\n",
       "      <td>2/15/1931 14:00</td>\n",
       "    </tr>\n",
       "    <tr>\n",
       "      <th>3</th>\n",
       "      <td>Abilene</td>\n",
       "      <td>NaN</td>\n",
       "      <td>DISK</td>\n",
       "      <td>KS</td>\n",
       "      <td>6/1/1931 13:00</td>\n",
       "    </tr>\n",
       "    <tr>\n",
       "      <th>4</th>\n",
       "      <td>New York Worlds Fair</td>\n",
       "      <td>NaN</td>\n",
       "      <td>LIGHT</td>\n",
       "      <td>NY</td>\n",
       "      <td>4/18/1933 19:00</td>\n",
       "    </tr>\n",
       "  </tbody>\n",
       "</table>\n",
       "</div>"
      ],
      "text/plain": [
       "                   City Colors Reported Shape Reported State             Time\n",
       "0                Ithaca             NaN       TRIANGLE    NY   6/1/1930 22:00\n",
       "1           Willingboro             NaN          OTHER    NJ  6/30/1930 20:00\n",
       "2               Holyoke             NaN           OVAL    CO  2/15/1931 14:00\n",
       "3               Abilene             NaN           DISK    KS   6/1/1931 13:00\n",
       "4  New York Worlds Fair             NaN          LIGHT    NY  4/18/1933 19:00"
      ]
     },
     "execution_count": 2,
     "metadata": {},
     "output_type": "execute_result"
    }
   ],
   "source": [
    "'''\n",
    "Part 1: UFO\n",
    "'''\n",
    "ufo = pd.read_csv('ufo.csv')   # can also read csvs directly from the web!\n",
    "ufo.head()"
   ]
  },
  {
   "cell_type": "code",
   "execution_count": 3,
   "metadata": {},
   "outputs": [
    {
     "name": "stdout",
     "output_type": "stream",
     "text": [
      "                   city colors_reported shape_reported state             time\n",
      "0                Ithaca             NaN       TRIANGLE    NY   6/1/1930 22:00\n",
      "1           Willingboro             NaN          OTHER    NJ  6/30/1930 20:00\n",
      "2               Holyoke             NaN           OVAL    CO  2/15/1931 14:00\n",
      "3               Abilene             NaN           DISK    KS   6/1/1931 13:00\n",
      "4  New York Worlds Fair             NaN          LIGHT    NY  4/18/1933 19:00\n"
     ]
    }
   ],
   "source": [
    "# 1. change the column names so that each name has no spaces\n",
    "#           and all lower case (replace spaces with underscores)\n",
    " \n",
    "ufo = ufo.rename(str.lower, axis=\"columns\")\n",
    "ufo = ufo.rename({\"colors reported\":\"colors_reported\", \"shape reported\":\"shape_reported\"}, axis=\"columns\")\n",
    "print(ufo.head())"
   ]
  },
  {
   "cell_type": "code",
   "execution_count": 4,
   "metadata": {},
   "outputs": [
    {
     "data": {
      "image/png": "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\n",
      "text/plain": [
       "<Figure size 432x288 with 1 Axes>"
      ]
     },
     "metadata": {
      "needs_background": "light"
     },
     "output_type": "display_data"
    }
   ],
   "source": [
    "# 2. Show a bar chart of all shapes reported\n",
    "ufo.groupby(\"shape_reported\").count()[\"city\"].sort_values(ascending=False).plot(kind = \"bar\")\n",
    "plt.show()\n"
   ]
  },
  {
   "cell_type": "code",
   "execution_count": 5,
   "metadata": {},
   "outputs": [
    {
     "name": "stdout",
     "output_type": "stream",
     "text": [
      "                city colors_reported shape_reported state             time\n",
      "29      Ft. Duschene             NaN           DISK    UT  6/30/1944 10:00\n",
      "164            Provo            BLUE           DISK    UT  7/10/1951 23:30\n",
      "170   Salt Lake City             NaN            NaN    UT    1/1/1952 0:00\n",
      "356   Salt Lake City             NaN         CIRCLE    UT    6/5/1956 0:00\n",
      "433  Salt  Lake City             NaN           DISK    UT  7/15/1957 22:00\n"
     ]
    }
   ],
   "source": [
    "# 3. Show a dataframe that only displays the reportings from Utah\n",
    "utah = ufo[ufo[\"state\"] == \"UT\"]\n",
    "print(utah.head())"
   ]
  },
  {
   "cell_type": "code",
   "execution_count": 6,
   "metadata": {},
   "outputs": [
    {
     "name": "stdout",
     "output_type": "stream",
     "text": [
      "             city colors_reported shape_reported state             time\n",
      "37         Dallas             NaN         SPHERE    TX  7/15/1945 14:00\n",
      "43          Alice             NaN           DISK    TX  3/15/1946 15:30\n",
      "49         Conroe             NaN          OTHER    TX  1/10/1947 20:00\n",
      "92         Borger             NaN           DISK    TX  6/15/1948 16:00\n",
      "114          Post             NaN           DISK    TX  9/15/1949 21:00\n",
      "...           ...             ...            ...   ...              ...\n",
      "80287  Lago Vista             NaN       TRIANGLE    TX   8/26/2014 3:35\n",
      "80350     Houston             NaN       TRIANGLE    TX  8/28/2014 19:55\n",
      "80414     Eustace             NaN          LIGHT    TX  8/30/2014 23:00\n",
      "80476  Fort Worth             NaN          OTHER    TX   9/2/2014 16:05\n",
      "80534    Burleson             NaN          LIGHT    TX   9/4/2014 22:30\n",
      "\n",
      "[4186 rows x 5 columns]\n"
     ]
    }
   ],
   "source": [
    "# 4. Show a dataframe that only displays the reportings from Texas\n",
    "texas = ufo[ufo[\"state\"] == \"TX\"]\n",
    "print(texas)\n"
   ]
  },
  {
   "cell_type": "code",
   "execution_count": 7,
   "metadata": {},
   "outputs": [
    {
     "name": "stdout",
     "output_type": "stream",
     "text": [
      "            city colors_reported shape_reported state             time\n",
      "29  Ft. Duschene             NaN           DISK    UT  6/30/1944 10:00\n",
      "37        Dallas             NaN         SPHERE    TX  7/15/1945 14:00\n",
      "43         Alice             NaN           DISK    TX  3/15/1946 15:30\n",
      "49        Conroe             NaN          OTHER    TX  1/10/1947 20:00\n",
      "92        Borger             NaN           DISK    TX  6/15/1948 16:00\n"
     ]
    }
   ],
   "source": [
    "# 5. Show a dataframe that only displays the reportings from Utah OR Texas\n",
    "textah = ufo[ufo[\"state\"].isin([\"TX\", \"UT\"])]\n",
    "print(textah.head())\n"
   ]
  },
  {
   "cell_type": "code",
   "execution_count": 8,
   "metadata": {},
   "outputs": [
    {
     "name": "stdout",
     "output_type": "stream",
     "text": [
      "['LIGHT']\n"
     ]
    }
   ],
   "source": [
    "# 6. Which shape is reported most often?\n",
    "print(ufo.shape_reported.mode().values)\n"
   ]
  },
  {
   "cell_type": "code",
   "execution_count": 9,
   "metadata": {},
   "outputs": [
    {
     "data": {
      "text/html": [
       "<div>\n",
       "<style scoped>\n",
       "    .dataframe tbody tr th:only-of-type {\n",
       "        vertical-align: middle;\n",
       "    }\n",
       "\n",
       "    .dataframe tbody tr th {\n",
       "        vertical-align: top;\n",
       "    }\n",
       "\n",
       "    .dataframe thead th {\n",
       "        text-align: right;\n",
       "    }\n",
       "</style>\n",
       "<table border=\"1\" class=\"dataframe\">\n",
       "  <thead>\n",
       "    <tr style=\"text-align: right;\">\n",
       "      <th></th>\n",
       "      <th>game_id</th>\n",
       "      <th>minute</th>\n",
       "      <th>player</th>\n",
       "      <th>team1score</th>\n",
       "      <th>team2score</th>\n",
       "    </tr>\n",
       "  </thead>\n",
       "  <tbody>\n",
       "    <tr>\n",
       "      <th>0</th>\n",
       "      <td>1</td>\n",
       "      <td>18</td>\n",
       "      <td>Schiavio</td>\n",
       "      <td>1</td>\n",
       "      <td>0</td>\n",
       "    </tr>\n",
       "    <tr>\n",
       "      <th>1</th>\n",
       "      <td>1</td>\n",
       "      <td>20</td>\n",
       "      <td>Orsi</td>\n",
       "      <td>2</td>\n",
       "      <td>0</td>\n",
       "    </tr>\n",
       "    <tr>\n",
       "      <th>2</th>\n",
       "      <td>1</td>\n",
       "      <td>29</td>\n",
       "      <td>Schiavio</td>\n",
       "      <td>3</td>\n",
       "      <td>0</td>\n",
       "    </tr>\n",
       "    <tr>\n",
       "      <th>3</th>\n",
       "      <td>1</td>\n",
       "      <td>57</td>\n",
       "      <td>Donelli</td>\n",
       "      <td>3</td>\n",
       "      <td>1</td>\n",
       "    </tr>\n",
       "    <tr>\n",
       "      <th>4</th>\n",
       "      <td>1</td>\n",
       "      <td>63</td>\n",
       "      <td>Ferrari</td>\n",
       "      <td>4</td>\n",
       "      <td>1</td>\n",
       "    </tr>\n",
       "  </tbody>\n",
       "</table>\n",
       "</div>"
      ],
      "text/plain": [
       "   game_id minute    player  team1score  team2score\n",
       "0        1     18  Schiavio           1           0\n",
       "1        1     20      Orsi           2           0\n",
       "2        1     29  Schiavio           3           0\n",
       "3        1     57   Donelli           3           1\n",
       "4        1     63   Ferrari           4           1"
      ]
     },
     "execution_count": 9,
     "metadata": {},
     "output_type": "execute_result"
    }
   ],
   "source": [
    "'''\n",
    "Part 2: FIFA GOALS\n",
    "'''\n",
    "\n",
    "goals = pd.read_csv('fifa_goals.csv')\n",
    "goals.set_index(\"team1score\")\n",
    "goals.sort_index(inplace = True)\n",
    "goals.head()"
   ]
  },
  {
   "cell_type": "code",
   "execution_count": 10,
   "metadata": {},
   "outputs": [
    {
     "name": "stdout",
     "output_type": "stream",
     "text": [
      "0       18\n",
      "1       20\n",
      "2       29\n",
      "3       57\n",
      "4       63\n",
      "        ..\n",
      "2202     6\n",
      "2203     8\n",
      "2204    10\n",
      "2205    18\n",
      "2206    84\n",
      "Name: minute, Length: 2207, dtype: object\n"
     ]
    }
   ],
   "source": [
    "# 1. Some elements in the minute column have a  '+', remove it and cast each element as an int!\n",
    "#     Hint: To replace, use a .apply lambda function to remove any plus symbols\n",
    "#     Hint: look up pandas dataframes astype method\n",
    "#     To check use the dataframe.describe() method to see if it is an integer\n",
    "print(goals[\"minute\"].replace(\"+\", \"\"))\n",
    "goals[\"minute\"] = goals[\"minute\"].apply(lambda x: x.replace(\"+\", \"\"))\n",
    "goals[\"minute\"] = goals[\"minute\"].astype(\"int64\")"
   ]
  },
  {
   "cell_type": "code",
   "execution_count": 11,
   "metadata": {},
   "outputs": [
    {
     "name": "stdout",
     "output_type": "stream",
     "text": [
      "      game_id  minute     player  team1score  team2score\n",
      "28          6       4      Belis           0           1\n",
      "62         16       1     Lehner           1           0\n",
      "73         19       3   Corbatta           0           1\n",
      "90         23       4     Bozsik           1           0\n",
      "103        27       4  McParland           0           1\n",
      "...       ...     ...        ...         ...         ...\n",
      "2110      821       2  Stojaspal           1           0\n",
      "2111      821       4     Probst           2           0\n",
      "2120      823       3     Kocsis           1           0\n",
      "2159      829       5     Borges           1           0\n",
      "2177      831       4  Hidegkuti           1           0\n",
      "\n",
      "[82 rows x 5 columns]\n"
     ]
    }
   ],
   "source": [
    "# 2. Show goals scored in the first 5 minutes of a game\n",
    "\n",
    "print(goals[goals[\"minute\"] <= 5])"
   ]
  },
  {
   "cell_type": "code",
   "execution_count": 12,
   "metadata": {},
   "outputs": [
    {
     "name": "stdout",
     "output_type": "stream",
     "text": [
      "      game_id  minute                       player  team1score  team2score\n",
      "10          2      93                       Schall           2           1\n",
      "11          2     109                       BiÄan           3           1\n",
      "12          2     118                Verriest [p.]           3           2\n",
      "69         17      95                     Schiavio           2           1\n",
      "156        42     100                    McParland           2           1\n",
      "329       102      92                      TrÃ©sor           1           2\n",
      "330       102      98                      Giresse           1           3\n",
      "331       102     102                   Rummenigge           2           3\n",
      "332       102     108                      Fischer           3           3\n",
      "429       136     101                        Hurst           3           2\n",
      "430       136     120                        Hurst           4           2\n",
      "591       256     102                        Demol           2           3\n",
      "592       256     108                      Claesen           2           4\n",
      "593       256     111                 Belanov [p.]           3           4\n",
      "626       269     104                     Genghini           3           2\n",
      "627       269     111                 AmorÃ³s [p.]           4           2\n",
      "637       272      94                        Piola           2           1\n",
      "652       275     103                      Socorro           3           2\n",
      "653       275     105                        Dobai           3           3\n",
      "662       276      93                    LeÃ´nidas           5           4\n",
      "663       276     104                    LeÃ´nidas           6           4\n",
      "664       276     118                   Wilimowski           6           5\n",
      "665       277      93                  KoÅ¡Å¥Ã¡lek           1           0\n",
      "666       277     111                        Zeman           2           0\n",
      "667       277     118                     NejedlÃ½           3           0\n",
      "920       353     102               R. Baggio [p.]           1           2\n",
      "936       358     101                   RÄducioiu           2           1\n",
      "937       358     115                 K. Andersson           2           2\n",
      "1077      413     113          Blanc [Golden Goal]           1           0\n",
      "1198      463     106                        Milla           1           0\n",
      "1199      463     109                        Milla           2           0\n",
      "1200      463     115                       RedÃ­n           2           1\n",
      "1214      469      92                   StojkoviÄ           1           2\n",
      "1215      470     119                        Platt           1           0\n",
      "1222      474     105                 Lineker [p.]           3           2\n",
      "1331      516     105                       Kempes           2           1\n",
      "1332      516     116                      Bertoni           3           1\n",
      "1454      566      98              Maxi RodrÃ­guez           2           1\n",
      "1471      577     119                       Grosso           0           1\n",
      "1472      577     120                    Del Piero           0           2\n",
      "1541      605     117                   EspÃ¡rrago           1           0\n",
      "1557      608     108                      MÃ¼ller           3           2\n",
      "1564      610      94                      MÃ¼ller           1           2\n",
      "1565      610      98                     Burgnich           2           2\n",
      "1566      610     104                         Riva           3           2\n",
      "1567      610     110                      MÃ¼ller           3           3\n",
      "1568      610     111                       Rivera           4           3\n",
      "1681      662      93                         Gyan           1           2\n",
      "1719      676     116                      Iniesta           1           0\n",
      "2042      797     104      H. Camara [Golden Goal]           1           2\n",
      "2052      802     117  Ahn Jung-hwan [Golden Goal]           2           1\n",
      "2057      806      94         Ä°lhan [Golden Goal]           0           1\n",
      "2099      818      91                    Lofthouse           4           3\n",
      "2100      818      93             Dickinson [o.g.]           4           4\n",
      "2189      833     111                       Kocsis           3           2\n",
      "2190      833     116                       Kocsis           4           2\n"
     ]
    }
   ],
   "source": [
    "# 3. Show goals scored after the regulation 90 minutes is over\n",
    "\n",
    "print(goals[goals[\"minute\"] > 90])"
   ]
  },
  {
   "cell_type": "code",
   "execution_count": 13,
   "metadata": {},
   "outputs": [
    {
     "name": "stdout",
     "output_type": "stream",
     "text": [
      "0    MÃ¼ller\n",
      "dtype: object\n"
     ]
    }
   ],
   "source": [
    "# 4. Show the top scoring players\n",
    "\n",
    "print(goals.player.mode())"
   ]
  },
  {
   "cell_type": "code",
   "execution_count": 14,
   "metadata": {},
   "outputs": [
    {
     "data": {
      "text/plain": [
       "array([[<AxesSubplot:title={'center':'minute'}>]], dtype=object)"
      ]
     },
     "execution_count": 14,
     "metadata": {},
     "output_type": "execute_result"
    },
    {
     "data": {
      "image/png": "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\n",
      "text/plain": [
       "<Figure size 432x288 with 1 Axes>"
      ]
     },
     "metadata": {
      "needs_background": "light"
     },
     "output_type": "display_data"
    }
   ],
   "source": [
    "# 5. Show a histogram (distribution) of minutes with 20 bins\n",
    "\n",
    "goals.hist(\"minute\", bins = 20)"
   ]
  },
  {
   "cell_type": "code",
<<<<<<< HEAD
   "execution_count": 15,
=======
   "execution_count": 24,
>>>>>>> bb5a31e944cccf4f76a68f109a5f79f8d4ac7493
   "metadata": {},
   "outputs": [
    {
     "data": {
      "text/plain": [
       "array([[<AxesSubplot:title={'center':'game_id'}>]], dtype=object)"
      ]
     },
<<<<<<< HEAD
     "execution_count": 15,
=======
     "execution_count": 24,
>>>>>>> bb5a31e944cccf4f76a68f109a5f79f8d4ac7493
     "metadata": {},
     "output_type": "execute_result"
    },
    {
     "data": {
      "image/png": "iVBORw0KGgoAAAANSUhEUgAAAX0AAAEICAYAAACzliQjAAAAOXRFWHRTb2Z0d2FyZQBNYXRwbG90bGliIHZlcnNpb24zLjMuNCwgaHR0cHM6Ly9tYXRwbG90bGliLm9yZy8QVMy6AAAACXBIWXMAAAsTAAALEwEAmpwYAAAVLUlEQVR4nO3df7DddX3n8eerRCkahVDaWxqooW1qC2Zr4S7SurU3gxaqjqEdceKgDVt2Mt3Bru7gjmE7W/2jmcXdoV1dljrZosZCvUbUJQvSlVKzzs4KaBANIbKEkmIAQ1VAYhk07Hv/OF+cszf3Jveek3tOzOf5mLlzvt/P9/M9n/f95JvX+d7v+ZWqQpLUhh8bdwGSpNEx9CWpIYa+JDXE0Jekhhj6ktQQQ1+SGmLoS2OQ5ENJ/t0htleSXxhlTWpDfJ2+dPRJUsDKqto97lp0bPFMX5IaYujrmJXk7CRfSfJ0kk8m+USSP0myLMnNSf4hyRPd8ml9+23r+v3vJPuT/PckP5HkhiTfTfKlJCv6+v9SktuSfCfJ/UneMo/aPprkT/rW/02Sx5I8muT3j/hkSB1DX8ekJC8EPgN8FDgZ+DjwO93mHwM+ArwM+FngGeCaGXexFng7sBz4eeCL3T4nA7uA93bjvBi4Dfgr4KeAtwLXJjlrAbVeCLwbeB2wEnjtQn5XaSEMfR2rzgOWAB+sqh9U1aeBuwCq6ttV9amq+seqehrYCPzmjP0/UlUPVtVTwK3Ag1X1N1V1APgk8KtdvzcCe6rqI1V1oKruBj4FvHkBtb6lG+/eqvoe8L7BfmXp8JaMuwBpkfwM8Ej9/69U+AZAkhcBfwZcCCzrtr0kyXFV9Vy3vq9vv2dmWV/aLb8MeFWSJ/u2LwH+coG1bu9b//sF7CstiKGvY9VjwPIk6Qv+04EHgSuAlwOvqqpvJnkl8BUgA4zzDeB/VtXrhqz19L71nx3ivqRD8vKOjlVfBJ4D3pFkSZI1wLndtpfQO1t/MsnJdNfnB3Qz8ItJ3p7kBd3PP03yywu4jy3ApUnO7P4KGaYe6ZAMfR2Tqur7wO8ClwFPAm+jF9DPAv8JOAH4FnAH8NdDjPM08Fv0nvh9FPgm8H7g+AXcx61dTX8L7O5upUXhm7PUjCR3Ah+qqo+MuxZpXDzT1zEryW8m+enu8s464J8wxFm9dCww9HUseznwVeApek/evrmqHhvV4El2dm/umvlzyahqkGby8o4kNcQzfUlqyFH/Ov1TTjmlVqxYMe4yZvW9732PF7/4xeMuY07WNxzrG471DWfY+rZv3/6tqvrJgzZU1VH9c84559TR6vOf//y4Szgk6xuO9Q3H+oYzbH3Al2uWTPXyjiQ1xNCXpIYY+pLUEENfkhpi6EtSQwx9SWqIoS9JDTH0Jakhhw39JB9O8niSe/vaTk5yW5IHuttlfduuTLI7yf1JLuhrPyfJjm7bB5MM8i1FkqQhzOdjGD4KXAN8rK9tA3B7VV2VZEO3/p4kZ9L7Momz6H3v598k+cXqfe/onwPr6X1pxWfpfT/prUfqF5nNig23LObdc8WqA1w6yxh7rnrDoo4rSYM67Jl+VX0B+M6M5jXA5m55M3BRX/t0VT1bVQ/R+xagc5OcCry0qr7YvT34Y337SJJGZF4frZxkBXBzVb2iW3+yqk7q2/5EVS1Lcg1wR1Vd37VfR+9sfg9wVVW9tmv/DeA9VfXGOcZbT++vAiYmJs6Znp4e6Jfb8chTA+03XxMnwL5nDm5ftfzERR13vvbv38/SpUvHXcacrG841jecY72+1atXb6+qyZntR/pTNme7Tl+HaJ9VVW0CNgFMTk7W1NTUQMXMdunlSLpi1QGu3nHwFO65ZGpRx52vbdu2MejcjYL1Dcf6htNqfYO+emdfd8mG7vbxrn0vcHpfv9PofVn03m55ZrskaYQGDf2twLpueR1wU1/72iTHJzkDWAncVb2vqHs6yXndq3Z+r28fSdKIHPbyTpKPA1PAKUn2Au8FrgK2JLkMeBi4GKCqdibZAtwHHAAu7165A/Av6b0S6AR61/kX9ZU7kqSDHTb0q+qtc2w6f47+G4GNs7R/GXjFgqqTJB1RviNXkhpi6EtSQwx9SWqIoS9JDTH0Jakhhr4kNcTQl6SGGPqS1BBDX5IaYuhLUkMMfUlqiKEvSQ0x9CWpIYa+JDXE0Jekhhj6ktQQQ1+SGmLoS1JDDH1JaoihL0kNMfQlqSGGviQ1xNCXpIYY+pLUEENfkhpi6EtSQwx9SWqIoS9JDTH0Jakhhr4kNcTQl6SGGPqS1JChQj/Jv06yM8m9ST6e5MeTnJzktiQPdLfL+vpfmWR3kvuTXDB8+ZKkhRg49JMsB/4VMFlVrwCOA9YCG4Dbq2olcHu3TpIzu+1nARcC1yY5brjyJUkLMezlnSXACUmWAC8CHgXWAJu77ZuBi7rlNcB0VT1bVQ8Bu4FzhxxfkrQAqarBd07eCWwEngE+V1WXJHmyqk7q6/NEVS1Lcg1wR1Vd37VfB9xaVTfOcr/rgfUAExMT50xPTw9U345Hnhpov/maOAH2PXNw+6rlJy7quPO1f/9+li5dOu4y5mR9w7G+4Rzr9a1evXp7VU3ObF8y6B121+rXAGcATwKfTPK2Q+0yS9usjzhVtQnYBDA5OVlTU1MD1XjphlsG2m++rlh1gKt3HDyFey6ZWtRx52vbtm0MOnejYH3Dsb7htFrfMJd3Xgs8VFX/UFU/AD4N/DqwL8mpAN3t413/vcDpffufRu9ykCRpRIYJ/YeB85K8KEmA84FdwFZgXddnHXBTt7wVWJvk+CRnACuBu4YYX5K0QANf3qmqO5PcCNwNHAC+Qu+SzFJgS5LL6D0wXNz135lkC3Bf1//yqnpuyPolSQswcOgDVNV7gffOaH6W3ln/bP030nviV5I0Br4jV5IaYuhLUkMMfUlqiKEvSQ0x9CWpIYa+JDXE0Jekhhj6ktQQQ1+SGmLoS1JDDH1JaoihL0kNMfQlqSGGviQ1xNCXpIYY+pLUEENfkhpi6EtSQwx9SWqIoS9JDTH0Jakhhr4kNcTQl6SGGPqS1BBDX5IaYuhLUkMMfUlqiKEvSQ0x9CWpIYa+JDXE0Jekhhj6ktSQoUI/yUlJbkzy9SS7kvxakpOT3Jbkge52WV//K5PsTnJ/kguGL1+StBDDnul/APjrqvol4FeAXcAG4PaqWgnc3q2T5ExgLXAWcCFwbZLjhhxfkrQAA4d+kpcCrwGuA6iq71fVk8AaYHPXbTNwUbe8Bpiuqmer6iFgN3DuoONLkhYuVTXYjskrgU3AffTO8rcD7wQeqaqT+vo9UVXLklwD3FFV13ft1wG3VtWNs9z3emA9wMTExDnT09MD1bjjkacG2m++Jk6Afc8c3L5q+YmLOu587d+/n6VLl467jDlZ33CsbzjHen2rV6/eXlWTM9uXDFHTEuBs4A+r6s4kH6C7lDOHzNI26yNOVW2i94DC5ORkTU1NDVTgpRtuGWi/+bpi1QGu3nHwFO65ZGpRx52vbdu2MejcjYL1Dcf6htNqfcNc098L7K2qO7v1G+k9COxLcipAd/t4X//T+/Y/DXh0iPElSQs0cOhX1TeBbyR5edd0Pr1LPVuBdV3bOuCmbnkrsDbJ8UnOAFYCdw06viRp4Ya5vAPwh8ANSV4I/B3wz+k9kGxJchnwMHAxQFXtTLKF3gPDAeDyqnpuyPElSQswVOhX1T3AQU8U0Dvrn63/RmDjMGNKkgbnO3IlqSGGviQ1xNCXpIYY+pLUEENfkhpi6EtSQwx9SWqIoS9JDTH0Jakhhr4kNcTQl6SGGPqS1BBDX5IaYuhLUkMMfUlqiKEvSQ0x9CWpIYa+JDXE0Jekhhj6ktQQQ1+SGmLoS1JDDH1JaoihL0kNMfQlqSGGviQ1xNCXpIYY+pLUEENfkhpi6EtSQwx9SWqIoS9JDRk69JMcl+QrSW7u1k9OcluSB7rbZX19r0yyO8n9SS4YdmxJ0sIciTP9dwK7+tY3ALdX1Urg9m6dJGcCa4GzgAuBa5McdwTGlyTN01Chn+Q04A3AX/Q1rwE2d8ubgYv62qer6tmqegjYDZw7zPiSpIVJVQ2+c3Ij8O+BlwDvrqo3Jnmyqk7q6/NEVS1Lcg1wR1Vd37VfB9xaVTfOcr/rgfUAExMT50xPTw9U345Hnhpov/maOAH2PXNw+6rlJy7quPO1f/9+li5dOu4y5mR9w7G+4Rzr9a1evXp7VU3ObF8y6B0meSPweFVtTzI1n11maZv1EaeqNgGbACYnJ2tqaj53f7BLN9wy0H7zdcWqA1y94+Ap3HPJ1KKOO1/btm1j0LkbBesbjvUNp9X6Bg594NXAm5K8Hvhx4KVJrgf2JTm1qh5LcirweNd/L3B63/6nAY8OMb4kaYEGvqZfVVdW1WlVtYLeE7R/W1VvA7YC67pu64CbuuWtwNokxyc5A1gJ3DVw5ZKkBRvmTH8uVwFbklwGPAxcDFBVO5NsAe4DDgCXV9VzizC+JGkORyT0q2obsK1b/jZw/hz9NgIbj8SYkqSF8x25ktQQQ1+SGmLoS1JDDH1JaoihL0kNMfQlqSGGviQ1xNCXpIYY+pLUEENfkhpi6EtSQwx9SWqIoS9JDTH0Jakhhr4kNcTQl6SGGPqS1BBDX5IaYuhLUkMMfUlqiKEvSQ0x9CWpIYa+JDXE0Jekhhj6ktQQQ1+SGmLoS1JDDH1JaoihL0kNMfQlqSGGviQ1xNCXpIYMHPpJTk/y+SS7kuxM8s6u/eQktyV5oLtd1rfPlUl2J7k/yQVH4heQJM3fMGf6B4ArquqXgfOAy5OcCWwAbq+qlcDt3TrdtrXAWcCFwLVJjhumeEnSwgwc+lX1WFXd3S0/DewClgNrgM1dt83ARd3yGmC6qp6tqoeA3cC5g44vSVq4VNXwd5KsAL4AvAJ4uKpO6tv2RFUtS3INcEdVXd+1XwfcWlU3znJ/64H1ABMTE+dMT08PVNeOR54aaL/5mjgB9j1zcPuq5Scu6rjztX//fpYuXTruMuZkfcOxvuEc6/WtXr16e1VNzmxfMlRVQJKlwKeAd1XVd5PM2XWWtlkfcapqE7AJYHJysqampgaq7dINtwy033xdseoAV+84eAr3XDK1qOPO17Zt2xh07kbB+oZjfcNptb6hXr2T5AX0Av+Gqvp017wvyand9lOBx7v2vcDpfbufBjw6zPiSpIUZ5tU7Aa4DdlXVn/Zt2gqs65bXATf1ta9NcnySM4CVwF2Dji9JWrhhLu+8Gng7sCPJPV3bvwWuArYkuQx4GLgYoKp2JtkC3EfvlT+XV9VzQ4wvSVqggUO/qv4Xs1+nBzh/jn02AhsHHVOSNBzfkStJDTH0Jakhhr4kNcTQl6SGGPqS1JCh35Grg61Y5HcCH8qeq94wtrElHf0805ekhhj6ktQQQ1+SGmLoS1JDDH1JaoihL0kNMfQlqSGGviQ1xNCXpIYY+pLUEENfkhpi6EtSQwx9SWqIoS9JDTH0Jakhhr4kNcTQl6SGGPqS1BBDX5IaYuhLUkMMfUlqyJJxF6Aja8WGW364fMWqA1zat76Y9lz1hpGMI2k4nulLUkMMfUlqiKEvSQ0x9CWpISN/IjfJhcAHgOOAv6iqq0Zdg468FQM8YXyknmj2SWRp/kYa+kmOA/4L8DpgL/ClJFur6r5R1qFjyyAPOPNxuAclH2z0o2jUZ/rnArur6u8AkkwDawBDXz9yFuvBZr5G+ZLc5/lA96MvVTW6wZI3AxdW1b/o1t8OvKqq3jGj33pgfbf6cuD+kRW5MKcA3xp3EYdgfcOxvuFY33CGre9lVfWTMxtHfaafWdoOetSpqk3ApsUvZzhJvlxVk+OuYy7WNxzrG471DWex6hv1q3f2Aqf3rZ8GPDriGiSpWaMO/S8BK5OckeSFwFpg64hrkKRmjfTyTlUdSPIO4H/Qe8nmh6tq5yhrOMKO9ktQ1jcc6xuO9Q1nUeob6RO5kqTx8h25ktQQQ1+SGmLoH0aS05N8PsmuJDuTvHOWPlNJnkpyT/fzxyOucU+SHd3YX55le5J8MMnuJF9LcvYIa3t537zck+S7Sd41o89I5y/Jh5M8nuTevraTk9yW5IHudtkc+16Y5P5uLjeMsL7/mOTr3b/fZ5KcNMe+hzwWFrG+9yV5pO/f8PVz7Duu+ftEX217ktwzx76jmL9ZM2Vkx2BV+XOIH+BU4Oxu+SXA/wHOnNFnCrh5jDXuAU45xPbXA7fSe5/EecCdY6rzOOCb9N40Mrb5A14DnA3c29f2H4AN3fIG4P1z1P8g8HPAC4GvzjwWFrG+3wKWdMvvn62++RwLi1jf+4B3z+PffyzzN2P71cAfj3H+Zs2UUR2DnukfRlU9VlV3d8tPA7uA5eOtasHWAB+rnjuAk5KcOoY6zgcerKq/H8PYP1RVXwC+M6N5DbC5W94MXDTLrj/8GJGq+j7w/MeILHp9VfW5qjrQrd5B7z0uYzHH/M3H2ObveUkCvAX4+JEed74OkSkjOQYN/QVIsgL4VeDOWTb/WpKvJrk1yVmjrYwCPpdke/cRFjMtB77Rt76X8TxwrWXu/2zjnD+Aiap6DHr/KYGfmqXP0TKPv0/vL7fZHO5YWEzv6C4/fXiOSxNHw/z9BrCvqh6YY/tI529GpozkGDT05ynJUuBTwLuq6rszNt9N75LFrwD/GfhvIy7v1VV1NvDbwOVJXjNj+7w+/mIxdW/GexPwyVk2j3v+5utomMc/Ag4AN8zR5XDHwmL5c+DngVcCj9G7hDLT2OcPeCuHPssf2fwdJlPm3G2WtgXNoaE/D0leQO8f54aq+vTM7VX13ara3y1/FnhBklNGVV9VPdrdPg58ht6fgP2Oho+/+G3g7qraN3PDuOevs+/5S17d7eOz9BnrPCZZB7wRuKS6C7wzzeNYWBRVta+qnquq/wv81znGHff8LQF+F/jEXH1GNX9zZMpIjkFD/zC6a4DXAbuq6k/n6PPTXT+SnEtvXr89ovpenOQlzy/Te8Lv3hndtgK/l57zgKee/zNyhOY8wxrn/PXZCqzrltcBN83SZ2wfI5Lelw+9B3hTVf3jHH3mcywsVn39zxH9zhzjjvtjWF4LfL2q9s62cVTzd4hMGc0xuJjPUh8LP8A/o/fn09eAe7qf1wN/APxB1+cdwE56z6TfAfz6COv7uW7cr3Y1/FHX3l9f6H15zYPADmByxHP4InohfmJf29jmj96Dz2PAD+idOV0G/ARwO/BAd3ty1/dngM/27ft6eq+2ePD5uR5RfbvpXct9/hj80Mz65joWRlTfX3bH1tfohdCpR9P8de0fff6Y6+s7jvmbK1NGcgz6MQyS1BAv70hSQwx9SWqIoS9JDTH0Jakhhr4kNcTQl6SGGPqS1JD/B8B3cAkfYBx2AAAAAElFTkSuQmCC\n",
      "text/plain": [
       "<Figure size 432x288 with 1 Axes>"
      ]
     },
     "metadata": {
      "needs_background": "light"
     },
     "output_type": "display_data"
    }
   ],
   "source": [
    "# 6. Show a histogram of the number of goals scored by players\n",
    "\n",
    "goals.groupby(\"player\").count().hist(\"game_id\")"
   ]
  }
 ],
 "metadata": {
  "anaconda-cloud": {},
  "kernelspec": {
   "display_name": "Python 3",
   "language": "python",
   "name": "python3"
  },
  "language_info": {
   "codemirror_mode": {
    "name": "ipython",
    "version": 3
   },
   "file_extension": ".py",
   "mimetype": "text/x-python",
   "name": "python",
   "nbconvert_exporter": "python",
   "pygments_lexer": "ipython3",
   "version": "3.8.8"
  }
 },
 "nbformat": 4,
 "nbformat_minor": 1
}
